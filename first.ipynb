{
  "nbformat": 4,
  "nbformat_minor": 0,
  "metadata": {
    "colab": {
      "provenance": [],
      "authorship_tag": "ABX9TyPBD7FW2/aQyhFnbdwwOHaM",
      "include_colab_link": true
    },
    "kernelspec": {
      "name": "python3",
      "display_name": "Python 3"
    },
    "language_info": {
      "name": "python"
    }
  },
  "cells": [
    {
      "cell_type": "markdown",
      "metadata": {
        "id": "view-in-github",
        "colab_type": "text"
      },
      "source": [
        "<a href=\"https://colab.research.google.com/github/faheemdehalvi/dsa/blob/main/first.ipynb\" target=\"_parent\"><img src=\"https://colab.research.google.com/assets/colab-badge.svg\" alt=\"Open In Colab\"/></a>"
      ]
    },
    {
      "cell_type": "code",
      "execution_count": null,
      "metadata": {
        "id": "5WeJHx1uSl68"
      },
      "outputs": [],
      "source": []
    },
    {
      "cell_type": "code",
      "source": [],
      "metadata": {
        "id": "FFDCtdwh3OuF"
      },
      "execution_count": null,
      "outputs": []
    },
    {
      "cell_type": "code",
      "source": [
        "print(\"boring asf\")"
      ],
      "metadata": {
        "colab": {
          "base_uri": "https://localhost:8080/"
        },
        "id": "6xXMGv6CSqXN",
        "outputId": "617fc5a4-adb5-4ca6-c71e-85ef689b950c"
      },
      "execution_count": null,
      "outputs": [
        {
          "output_type": "stream",
          "name": "stdout",
          "text": [
            "boring asf\n"
          ]
        }
      ]
    },
    {
      "cell_type": "code",
      "source": [
        "a+b\n"
      ],
      "metadata": {
        "colab": {
          "base_uri": "https://localhost:8080/"
        },
        "id": "zO12gE4hTFjv",
        "outputId": "8c05a086-b740-432c-e20a-b1aa9656ce2c"
      },
      "execution_count": null,
      "outputs": [
        {
          "output_type": "execute_result",
          "data": {
            "text/plain": [
              "3"
            ]
          },
          "metadata": {},
          "execution_count": 5
        }
      ]
    },
    {
      "cell_type": "code",
      "source": [
        "substraction = a-b"
      ],
      "metadata": {
        "id": "gotfeKsYTkcX"
      },
      "execution_count": null,
      "outputs": []
    },
    {
      "cell_type": "code",
      "source": [],
      "metadata": {
        "id": "wM2HHG1DTtSi"
      },
      "execution_count": null,
      "outputs": []
    },
    {
      "cell_type": "code",
      "source": [
        "a=7\n",
        "b=2\n",
        "c=3\n",
        "sum=a+b\n",
        "diff=a-b\n",
        "diff1=a-b-c\n",
        "product=a*b\n",
        "\n",
        "remainder=a%b\n",
        "quotient=a//b\n",
        "square=a*a\n",
        "import math\n",
        "squareroot=math.sqrt(a)\n",
        "sum1=a+b+c\n",
        "\n",
        "print (\"square root of a\",squareroot)\n",
        "print (\"sum of three numbers\",sum1)\n",
        "print (\"remainder\",remainder)\n",
        "print (\"quotient\",quotient)\n",
        "print (\"product\",product)\n",
        "print (\"sum\",sum)\n",
        "print (\"diff\",diff)\n",
        "print (\"diff1\",diff1)"
      ],
      "metadata": {
        "colab": {
          "base_uri": "https://localhost:8080/"
        },
        "id": "FS7xIUISTIRI",
        "outputId": "44b32c16-80b6-4657-d157-b006b13bc33c"
      },
      "execution_count": null,
      "outputs": [
        {
          "output_type": "stream",
          "name": "stdout",
          "text": [
            "square root of a 2.6457513110645907\n",
            "sum of three numbers 12\n",
            "remainder 1\n",
            "quotient 3\n",
            "product 14\n",
            "sum 9\n",
            "diff 5\n",
            "diff1 2\n"
          ]
        }
      ]
    },
    {
      "cell_type": "code",
      "source": [
        "print(type(sum))"
      ],
      "metadata": {
        "colab": {
          "base_uri": "https://localhost:8080/"
        },
        "id": "LMiaaJbdW1EY",
        "outputId": "99567b51-334c-4820-b523-aa745405d5e2"
      },
      "execution_count": null,
      "outputs": [
        {
          "output_type": "stream",
          "name": "stdout",
          "text": [
            "<class 'int'>\n"
          ]
        }
      ]
    },
    {
      "cell_type": "code",
      "source": [
        "num1=34\n",
        "num2=34.23\n",
        "num3=4j\n",
        "print(type(num1))\n",
        "print(type(num2))\n",
        "print(type(num3))"
      ],
      "metadata": {
        "colab": {
          "base_uri": "https://localhost:8080/"
        },
        "id": "R7yU6k5NXI68",
        "outputId": "fc3f4948-bf6d-44f5-c0e5-581f59caa6e4"
      },
      "execution_count": null,
      "outputs": [
        {
          "output_type": "stream",
          "name": "stdout",
          "text": [
            "<class 'int'>\n",
            "<class 'float'>\n",
            "<class 'complex'>\n"
          ]
        }
      ]
    },
    {
      "cell_type": "code",
      "source": [],
      "metadata": {
        "id": "6UWX9JsoXdvq"
      },
      "execution_count": null,
      "outputs": []
    },
    {
      "cell_type": "markdown",
      "source": [],
      "metadata": {
        "id": "Hu6Bo6v-XiTZ"
      }
    },
    {
      "cell_type": "code",
      "source": [
        "import math\n",
        "lis=['faheem','age','18','height','5.7inch']\n",
        "lis2=['joke','offended']\n",
        "lis6=[1,2,3,]\n",
        "print(\"lis6\",lis6)\n",
        "lis3=lis+lis2\n",
        "print(lis)\n",
        "print(lis)\n",
        "print(len(lis))\n",
        "print(lis3)\n",
        "lis3.clear()\n",
        "print(lis3)\n",
        "print(lis[0])\n",
        "lis.sort()\n",
        "print (lis)\n"
      ],
      "metadata": {
        "colab": {
          "base_uri": "https://localhost:8080/"
        },
        "id": "08YFaGucYjGH",
        "outputId": "39b52ea3-57cd-4599-e5ee-b4aa1b65fc43"
      },
      "execution_count": null,
      "outputs": [
        {
          "output_type": "stream",
          "name": "stdout",
          "text": [
            "lis6 [1, 2, 3]\n",
            "['faheem', 'age', '18', 'height', '5.7inch']\n",
            "['faheem', 'age', '18', 'height', '5.7inch']\n",
            "5\n",
            "['faheem', 'age', '18', 'height', '5.7inch', 'joke', 'offended']\n",
            "[]\n",
            "faheem\n",
            "['18', '5.7inch', 'age', 'faheem', 'height']\n"
          ]
        }
      ]
    },
    {
      "cell_type": "code",
      "source": [
        "tuple1=(\"hi\",\"i\",\"am\",\"Faheem\")\n",
        "print(tuple1)\n",
        "print(type(tuple1))\n",
        "tuple7=(1,2,3,4,)\n",
        "print(tuple1)\n"
      ],
      "metadata": {
        "colab": {
          "base_uri": "https://localhost:8080/"
        },
        "id": "yE0aRhOdbX1E",
        "outputId": "1273fc93-5dab-49a2-f4ac-bc8fdb1d2315"
      },
      "execution_count": null,
      "outputs": [
        {
          "output_type": "stream",
          "name": "stdout",
          "text": [
            "('hi', 'i', 'am', 'Faheem')\n",
            "<class 'tuple'>\n",
            "('hi', 'i', 'am', 'Faheem')\n"
          ]
        }
      ]
    },
    {
      "cell_type": "code",
      "source": [
        "tuple1=(\"hi\",\"i\",\"am\",\"Faheem\")\n",
        "print(tuple1[-1])\n",
        "tuple2=tuple1*2\n",
        "print (tuple2)\n",
        "y=tuple2.index('Faheem')\n",
        "y"
      ],
      "metadata": {
        "colab": {
          "base_uri": "https://localhost:8080/"
        },
        "id": "9I8_E2vdcDyA",
        "outputId": "4891d25d-6aa7-4ed6-b2fc-ed9f941207cd"
      },
      "execution_count": null,
      "outputs": [
        {
          "output_type": "stream",
          "name": "stdout",
          "text": [
            "Faheem\n",
            "('hi', 'i', 'am', 'Faheem', 'hi', 'i', 'am', 'Faheem')\n"
          ]
        },
        {
          "output_type": "execute_result",
          "data": {
            "text/plain": [
              "3"
            ]
          },
          "metadata": {},
          "execution_count": 2
        }
      ]
    },
    {
      "cell_type": "markdown",
      "source": [],
      "metadata": {
        "id": "04qq3lcdT90R"
      }
    },
    {
      "cell_type": "code",
      "source": [
        "substraction1=a-b-c"
      ],
      "metadata": {
        "id": "IYzQeH7tT-ic"
      },
      "execution_count": null,
      "outputs": []
    },
    {
      "cell_type": "code",
      "source": [
        "x=(1,2,3)\n",
        "print(x)\n",
        "y=list(x)\n",
        "y[2]=\"kokalta\"\n",
        "x=tuple(y)\n",
        "print(x)\n",
        "\n"
      ],
      "metadata": {
        "colab": {
          "base_uri": "https://localhost:8080/"
        },
        "id": "1TYO1hm_cpk4",
        "outputId": "a0c80747-ee01-4b7e-8ddd-ad65f1707e70"
      },
      "execution_count": null,
      "outputs": [
        {
          "output_type": "stream",
          "name": "stdout",
          "text": [
            "(1, 2, 3)\n",
            "(1, 2, 'kokalta')\n"
          ]
        }
      ]
    },
    {
      "cell_type": "code",
      "source": [
        "set1={\"blue\",\"black\",\"red\"}\n",
        "print(set1)\n",
        "set1.add(\"mattback\")\n",
        "set2={\"crimson\",\"pink\"}\n",
        "set1.update(set2)\n",
        "print(set1)"
      ],
      "metadata": {
        "colab": {
          "base_uri": "https://localhost:8080/"
        },
        "id": "KnKEhMKNgsSb",
        "outputId": "d6989901-584c-4029-ab6b-19781a182811"
      },
      "execution_count": null,
      "outputs": [
        {
          "output_type": "stream",
          "name": "stdout",
          "text": [
            "{'black', 'blue', 'red'}\n",
            "{'black', 'blue', 'pink', 'crimson', 'red', 'mattback'}\n"
          ]
        }
      ]
    },
    {
      "cell_type": "code",
      "source": [
        "print(\"Enter the dividend and divisor\")\n",
        "a=int(input(\"a=\"))\n",
        "b=int(input(\"b=\"))\n",
        "if a>b:\n",
        "  q=a/b\n",
        "  print(\"q=\",q)\n",
        "elif a == b:\n",
        "  print(\"q=1\")\n",
        "else:\n",
        "  print(\"the divisor cannot be greater divident\")\n"
      ],
      "metadata": {
        "colab": {
          "base_uri": "https://localhost:8080/"
        },
        "id": "kk9Pwb9AyuZN",
        "outputId": "bace995b-a221-4050-8943-5a525191408e"
      },
      "execution_count": null,
      "outputs": [
        {
          "output_type": "stream",
          "name": "stdout",
          "text": [
            "Enter the dividend and divisor\n",
            "a=4\n",
            "b=2\n",
            "q= 2.0\n"
          ]
        }
      ]
    },
    {
      "cell_type": "code",
      "source": [
        "\n",
        "num = int(input(\"Enter a number: \"))\n",
        "\n",
        "if num % 2 == 0:\n",
        "    print(num, \"is even.\")\n",
        "else:\n",
        "    print(num, \"is odd.\")\n"
      ],
      "metadata": {
        "id": "t1ZLLMTv3Qxe",
        "outputId": "959920ca-551e-4966-a3a1-feaac4a607e7",
        "colab": {
          "base_uri": "https://localhost:8080/"
        }
      },
      "execution_count": 1,
      "outputs": [
        {
          "output_type": "stream",
          "name": "stdout",
          "text": [
            "Enter a number: 2\n",
            "2 is even.\n"
          ]
        }
      ]
    },
    {
      "cell_type": "code",
      "source": [
        "age = int(input(\"Enter your age: \"))\n",
        "if age < 18:\n",
        "    print(\"You are a minor.\")\n",
        "else:\n",
        "    print(\"You are an adult.\")\n"
      ],
      "metadata": {
        "id": "L2Hvu0mx3iUj",
        "outputId": "944f0a76-4e79-4a20-cfa6-06f04e1fb706",
        "colab": {
          "base_uri": "https://localhost:8080/"
        }
      },
      "execution_count": 2,
      "outputs": [
        {
          "output_type": "stream",
          "name": "stdout",
          "text": [
            "Enter your age: 23\n",
            "You are an adult.\n"
          ]
        }
      ]
    },
    {
      "cell_type": "code",
      "source": [
        "score = int(input(\"Enter your exam score: \"))\n",
        "if score >= 35:\n",
        "    print(\"Congratulations, you passed!\")\n",
        "else:\n",
        "    print(\"Sorry, you failed. Try again.\")\n"
      ],
      "metadata": {
        "id": "BY8kBflx3lud",
        "outputId": "6689e2af-6b28-4a56-d636-95abb84bd322",
        "colab": {
          "base_uri": "https://localhost:8080/"
        }
      },
      "execution_count": 4,
      "outputs": [
        {
          "output_type": "stream",
          "name": "stdout",
          "text": [
            "Enter your exam score: 36\n",
            "Congratulations, you passed!\n"
          ]
        }
      ]
    },
    {
      "cell_type": "code",
      "source": [
        "weight = float(input(\"Enter your weight (kg): \"))\n",
        "height = float(input(\"Enter your height (m): \"))\n",
        "bmi = weight / (height * height)\n",
        "if bmi < 18.5:\n",
        "    print(\"Underweight\")\n",
        "elif bmi < 25:\n",
        "    print(\"Normal weight\")\n",
        "elif bmi < 30:\n",
        "    print(\"Overweight\")\n",
        "else:\n",
        "    print(\"Obese\")\n"
      ],
      "metadata": {
        "id": "Lz3pz3123sdp",
        "outputId": "dcf2e625-af09-46f9-a5ad-ae31c6809818",
        "colab": {
          "base_uri": "https://localhost:8080/"
        }
      },
      "execution_count": 6,
      "outputs": [
        {
          "output_type": "stream",
          "name": "stdout",
          "text": [
            "Enter your weight (kg): 60\n",
            "Enter your height (m): 1.70\n",
            "Normal weight\n"
          ]
        }
      ]
    }
  ]
}