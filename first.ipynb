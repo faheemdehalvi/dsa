{
  "nbformat": 4,
  "nbformat_minor": 0,
  "metadata": {
    "colab": {
      "provenance": [],
      "authorship_tag": "ABX9TyNLNtR5N7C994pmcYOtv1lF",
      "include_colab_link": true
    },
    "kernelspec": {
      "name": "python3",
      "display_name": "Python 3"
    },
    "language_info": {
      "name": "python"
    }
  },
  "cells": [
    {
      "cell_type": "markdown",
      "metadata": {
        "id": "view-in-github",
        "colab_type": "text"
      },
      "source": [
        "<a href=\"https://colab.research.google.com/github/faheemdehalvi/dsa/blob/main/first.ipynb\" target=\"_parent\"><img src=\"https://colab.research.google.com/assets/colab-badge.svg\" alt=\"Open In Colab\"/></a>"
      ]
    },
    {
      "cell_type": "code",
      "execution_count": 3,
      "metadata": {
        "id": "5WeJHx1uSl68"
      },
      "outputs": [],
      "source": []
    },
    {
      "cell_type": "code",
      "source": [
        "print(\"boring asf\")"
      ],
      "metadata": {
        "colab": {
          "base_uri": "https://localhost:8080/"
        },
        "id": "6xXMGv6CSqXN",
        "outputId": "617fc5a4-adb5-4ca6-c71e-85ef689b950c"
      },
      "execution_count": 4,
      "outputs": [
        {
          "output_type": "stream",
          "name": "stdout",
          "text": [
            "boring asf\n"
          ]
        }
      ]
    },
    {
      "cell_type": "code",
      "source": [
        "a+b\n"
      ],
      "metadata": {
        "colab": {
          "base_uri": "https://localhost:8080/"
        },
        "id": "zO12gE4hTFjv",
        "outputId": "8c05a086-b740-432c-e20a-b1aa9656ce2c"
      },
      "execution_count": 5,
      "outputs": [
        {
          "output_type": "execute_result",
          "data": {
            "text/plain": [
              "3"
            ]
          },
          "metadata": {},
          "execution_count": 5
        }
      ]
    },
    {
      "cell_type": "code",
      "source": [
        "substraction = a-b"
      ],
      "metadata": {
        "id": "gotfeKsYTkcX"
      },
      "execution_count": 6,
      "outputs": []
    },
    {
      "cell_type": "code",
      "source": [],
      "metadata": {
        "id": "wM2HHG1DTtSi"
      },
      "execution_count": 6,
      "outputs": []
    },
    {
      "cell_type": "code",
      "source": [
        "a=7\n",
        "b=2\n",
        "c=3\n",
        "sum=a+b\n",
        "diff=a-b\n",
        "diff1=a-b-c\n",
        "product=a*b\n",
        "\n",
        "remainder=a%b\n",
        "quotient=(a-remainder)/b\n",
        "square=a*a\n",
        "import math\n",
        "squareroot=math.sqrt(a)\n",
        "sum1=a+b+c\n",
        "\n",
        "print (\"square root of a\",squareroot)\n",
        "print (\"sum of three numbers\",sum1)\n",
        "print (\"remainder\",remainder)\n",
        "print (\"quotient\",quotient)\n",
        "print (\"product\",product)\n",
        "print (\"sum\",sum)\n",
        "print (\"diff\",diff)\n",
        "print (\"diff1\",diff1)"
      ],
      "metadata": {
        "colab": {
          "base_uri": "https://localhost:8080/"
        },
        "id": "FS7xIUISTIRI",
        "outputId": "4e71d358-2fdf-45fd-cc69-8d5336eb08c7"
      },
      "execution_count": 66,
      "outputs": [
        {
          "output_type": "stream",
          "name": "stdout",
          "text": [
            "square root of a 2.6457513110645907\n",
            "sum of three numbers 12\n",
            "remainder 1\n",
            "quotient 3.0\n",
            "product 14\n",
            "sum 9\n",
            "diff 5\n",
            "diff1 2\n"
          ]
        }
      ]
    },
    {
      "cell_type": "code",
      "source": [
        "print(type(sum))"
      ],
      "metadata": {
        "colab": {
          "base_uri": "https://localhost:8080/"
        },
        "id": "LMiaaJbdW1EY",
        "outputId": "99567b51-334c-4820-b523-aa745405d5e2"
      },
      "execution_count": 17,
      "outputs": [
        {
          "output_type": "stream",
          "name": "stdout",
          "text": [
            "<class 'int'>\n"
          ]
        }
      ]
    },
    {
      "cell_type": "code",
      "source": [
        "num1=34\n",
        "num2=34.23\n",
        "num3=4j\n",
        "print(type(num1))\n",
        "print(type(num2))\n",
        "print(type(num3))"
      ],
      "metadata": {
        "colab": {
          "base_uri": "https://localhost:8080/"
        },
        "id": "R7yU6k5NXI68",
        "outputId": "fc3f4948-bf6d-44f5-c0e5-581f59caa6e4"
      },
      "execution_count": 18,
      "outputs": [
        {
          "output_type": "stream",
          "name": "stdout",
          "text": [
            "<class 'int'>\n",
            "<class 'float'>\n",
            "<class 'complex'>\n"
          ]
        }
      ]
    },
    {
      "cell_type": "code",
      "source": [],
      "metadata": {
        "id": "6UWX9JsoXdvq"
      },
      "execution_count": null,
      "outputs": []
    },
    {
      "cell_type": "markdown",
      "source": [],
      "metadata": {
        "id": "Hu6Bo6v-XiTZ"
      }
    },
    {
      "cell_type": "code",
      "source": [
        "import math\n",
        "lis=['faheem','age','18','height','5.7inch']\n",
        "lis2=['joke','offended']\n",
        "lis6=[1,2,3,]\n",
        "print(\"lis6\",lis6)\n",
        "lis3=lis+lis2\n",
        "print(lis)\n",
        "print(lis)\n",
        "print(len(lis))\n",
        "print(lis3)\n",
        "lis3.clear()\n",
        "print(lis3)\n",
        "print(lis[0])\n",
        "lis.sort()\n",
        "print (lis)\n"
      ],
      "metadata": {
        "colab": {
          "base_uri": "https://localhost:8080/"
        },
        "id": "08YFaGucYjGH",
        "outputId": "39b52ea3-57cd-4599-e5ee-b4aa1b65fc43"
      },
      "execution_count": 41,
      "outputs": [
        {
          "output_type": "stream",
          "name": "stdout",
          "text": [
            "lis6 [1, 2, 3]\n",
            "['faheem', 'age', '18', 'height', '5.7inch']\n",
            "['faheem', 'age', '18', 'height', '5.7inch']\n",
            "5\n",
            "['faheem', 'age', '18', 'height', '5.7inch', 'joke', 'offended']\n",
            "[]\n",
            "faheem\n",
            "['18', '5.7inch', 'age', 'faheem', 'height']\n"
          ]
        }
      ]
    },
    {
      "cell_type": "code",
      "source": [
        "tuple1=(\"hi\",\"i\",\"am\",\"Faheem\")\n",
        "print(tuple1)\n",
        "print(type(tuple1))\n",
        "tuple7=(1,2,3,4,)\n",
        "print(tuple1)\n"
      ],
      "metadata": {
        "colab": {
          "base_uri": "https://localhost:8080/"
        },
        "id": "yE0aRhOdbX1E",
        "outputId": "1273fc93-5dab-49a2-f4ac-bc8fdb1d2315"
      },
      "execution_count": 51,
      "outputs": [
        {
          "output_type": "stream",
          "name": "stdout",
          "text": [
            "('hi', 'i', 'am', 'Faheem')\n",
            "<class 'tuple'>\n",
            "('hi', 'i', 'am', 'Faheem')\n"
          ]
        }
      ]
    },
    {
      "cell_type": "code",
      "source": [
        "tuple1=(\"hi\",\"i\",\"am\",\"Faheem\")\n",
        "print(tuple1[-1])\n",
        "tuple2=tuple1*2\n",
        "print (tuple2)\n",
        "y=tuple2.index(-1)\n",
        "y"
      ],
      "metadata": {
        "colab": {
          "base_uri": "https://localhost:8080/",
          "height": 262
        },
        "id": "9I8_E2vdcDyA",
        "outputId": "975fd533-d51b-41c8-8755-080e86e2c1d9"
      },
      "execution_count": 58,
      "outputs": [
        {
          "output_type": "stream",
          "name": "stdout",
          "text": [
            "Faheem\n",
            "('hi', 'i', 'am', 'Faheem', 'hi', 'i', 'am', 'Faheem')\n"
          ]
        },
        {
          "output_type": "error",
          "ename": "ValueError",
          "evalue": "ignored",
          "traceback": [
            "\u001b[0;31m---------------------------------------------------------------------------\u001b[0m",
            "\u001b[0;31mValueError\u001b[0m                                Traceback (most recent call last)",
            "\u001b[0;32m<ipython-input-58-6b9288677e4f>\u001b[0m in \u001b[0;36m<cell line: 5>\u001b[0;34m()\u001b[0m\n\u001b[1;32m      3\u001b[0m \u001b[0mtuple2\u001b[0m\u001b[0;34m=\u001b[0m\u001b[0mtuple1\u001b[0m\u001b[0;34m*\u001b[0m\u001b[0;36m2\u001b[0m\u001b[0;34m\u001b[0m\u001b[0;34m\u001b[0m\u001b[0m\n\u001b[1;32m      4\u001b[0m \u001b[0mprint\u001b[0m \u001b[0;34m(\u001b[0m\u001b[0mtuple2\u001b[0m\u001b[0;34m)\u001b[0m\u001b[0;34m\u001b[0m\u001b[0;34m\u001b[0m\u001b[0m\n\u001b[0;32m----> 5\u001b[0;31m \u001b[0my\u001b[0m\u001b[0;34m=\u001b[0m\u001b[0mtuple2\u001b[0m\u001b[0;34m.\u001b[0m\u001b[0mindex\u001b[0m\u001b[0;34m(\u001b[0m\u001b[0;34m-\u001b[0m\u001b[0;36m1\u001b[0m\u001b[0;34m)\u001b[0m\u001b[0;34m\u001b[0m\u001b[0;34m\u001b[0m\u001b[0m\n\u001b[0m\u001b[1;32m      6\u001b[0m \u001b[0my\u001b[0m\u001b[0;34m\u001b[0m\u001b[0;34m\u001b[0m\u001b[0m\n",
            "\u001b[0;31mValueError\u001b[0m: tuple.index(x): x not in tuple"
          ]
        }
      ]
    },
    {
      "cell_type": "markdown",
      "source": [],
      "metadata": {
        "id": "04qq3lcdT90R"
      }
    },
    {
      "cell_type": "code",
      "source": [
        "substraction1=a-b-c"
      ],
      "metadata": {
        "id": "IYzQeH7tT-ic"
      },
      "execution_count": 8,
      "outputs": []
    }
  ]
}